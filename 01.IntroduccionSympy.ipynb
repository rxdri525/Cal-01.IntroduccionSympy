{
 "cells": [
  {
   "cell_type": "markdown",
   "metadata": {},
   "source": [
    "# Introducción a **SymPy**"
   ]
  },
  {
   "cell_type": "markdown",
   "metadata": {},
   "source": [
    "## Objetivos:\n",
    "\n",
    "- Uso de variables simbólicas.\n",
    "- Suposiciones y requerimentos de las variables. \n",
    "- Manipulación de expresións sencillas en una variable.\n",
    "- Creación de funciones a partir de expresiones.\n",
    "- Rpresentación gráfica de regiones y funciones con **SymPy**.\n",
    "\n",
    "## Nota previa: instalación de *Jupyter notebook* bajo Anaconda ##\n",
    "\n",
    "Para emplear directamente este guión de prácticas desde una instalación de Python con *Anaconda*, basta con hacer click en la aplicación 'Jupyter notebook', que ya está instalada por defecto (para más detalles: https://jupyter-notebook-beginner-guide.readthedocs.io/en/latest/execute.html).\n",
    "\n",
    "Desde aquí podéis instalar *Anaconda* para vuestro sistema operativo:\n",
    "https://docs.anaconda.com/anaconda/install/"
   ]
  },
  {
   "cell_type": "markdown",
   "metadata": {},
   "source": [
    "## Variables, expresiones y funciones\n",
    "\n",
    "### Instalación y carga del módulo\n",
    "\n",
    "En Python, además de las variables numéricas, que veremos con mayor profundidad un poco más adelante, existen las variables simbólicas, que permiten calcular límites, derivadas, integrales, etc., como hacemos habitualmente en las clases de matemáticas.\n",
    "Para poder hacer estas operaciones, habituales y necesarias en un curso de Cálculo, necesitamos tener instaladas la librería **SymPy**.\n",
    "\n",
    "Este módulo no trabaja co nuna estructura de datos basada en números sino con objetos que poseen atributos y métodos que intentan reproducir el comportamiento matemático de variables, funciones, regiones, ecuaciones, etc., con las que se trabaja habitualmente en las disciplinas de álgebra y cálculo diferencial e integral. \n",
    "\n",
    "Para hacer que esté disponible el módulo **SymPy**, hay que instalarlo usando la herramienta `pip` (o `conda`, si trabajáis en entornos de trabajo diferenciados). Para el uso de *Microsoft Azute Notebooks* (https://notebooks.azure.com/), se utiliza la siguiente instalación:"
   ]
  },
  {
   "cell_type": "code",
   "execution_count": 2,
   "metadata": {},
   "outputs": [],
   "source": [
    "!pip -q install sympy"
   ]
  },
  {
   "cell_type": "markdown",
   "metadata": {},
   "source": [
    "Para disponer del módulo **SymPy** e importarlo para el resto del guión de prácticas, usaremos:"
   ]
  },
  {
   "cell_type": "code",
   "execution_count": 3,
   "metadata": {},
   "outputs": [],
   "source": [
    "import sympy as sp"
   ]
  },
  {
   "cell_type": "markdown",
   "metadata": {},
   "source": [
    "### Variables simbólicas\n",
    "Para trabajar en modo simbólico es necesario definir variables simbólicas. Para hacer\n",
    "esto usaremos la función `sp.Symbol`. \n",
    "\n",
    "Veamos algunos ejemplos de su uso:"
   ]
  },
  {
   "cell_type": "code",
   "execution_count": 3,
   "metadata": {
    "scrolled": true
   },
   "outputs": [
    {
     "name": "stdout",
     "output_type": "stream",
     "text": [
      "3*x + 5*y\n",
      "a**3 + b**2 + c\n"
     ]
    }
   ],
   "source": [
    "x = sp.Symbol('x') # define la variable simbólica x\n",
    "y = sp.Symbol('y') # define la variable simbólica y\n",
    "f = 3*x + 5*y # ahora tenemos definida la expresion simbólica f\n",
    "print(f)\n",
    "\n",
    "a, b, c = sp.symbols('a:c') # define como simbólicas las variables a, b, c.\n",
    "expresion = a**3 + b**2 + c\n",
    "print(expresion)"
   ]
  },
  {
   "cell_type": "markdown",
   "metadata": {},
   "source": [
    "Por claridad en la implementación y en los cálculos, será habitual que el nombre de la variable simbólica y el nombre del objeto **SymPy** en el que se almacena coincidan, pero esto no tiene porque ser así:"
   ]
  },
  {
   "cell_type": "code",
   "execution_count": 5,
   "metadata": {},
   "outputs": [
    {
     "name": "stdout",
     "output_type": "stream",
     "text": [
      "x\n"
     ]
    },
    {
     "data": {
      "text/plain": [
       "'x'"
      ]
     },
     "execution_count": 5,
     "metadata": {},
     "output_type": "execute_result"
    }
   ],
   "source": [
    "a = sp.Symbol('x')\n",
    "print(a)\n",
    "a.name"
   ]
  },
  {
   "cell_type": "markdown",
   "metadata": {},
   "source": [
    "Debemos tener claro que ahora las variables `x` o `y`, definidas antes, no son números, ni tampoco pertenecen a los objetos definidos con el módulo **NumPy**, que estudiaremos más adelante. Todas las variables simbólicas son objetos de la clase `sp.Symbol` y sus atributos y métodos son completamente diferentes a las variables numéricas y vectores de **NumPy**. \n",
    "\n",
    "Podemos comprobar los métodos y atributos que podemos ejecutar sobre estos objetos si ejecutamos la siguiente orden: "
   ]
  },
  {
   "cell_type": "code",
   "execution_count": 4,
   "metadata": {},
   "outputs": [
    {
     "name": "stdout",
     "output_type": "stream",
     "text": [
      "<class 'sympy.core.symbol.Symbol'>\n"
     ]
    },
    {
     "data": {
      "text/plain": [
       "['_Symbol__xnew_cached_',\n",
       " '__abs__',\n",
       " '__add__',\n",
       " '__and__',\n",
       " '__annotations__',\n",
       " '__class__',\n",
       " '__complex__',\n",
       " '__delattr__',\n",
       " '__dir__',\n",
       " '__divmod__',\n",
       " '__doc__',\n",
       " '__eq__',\n",
       " '__float__',\n",
       " '__floordiv__',\n",
       " '__format__',\n",
       " '__ge__',\n",
       " '__getattribute__',\n",
       " '__getnewargs__',\n",
       " '__getnewargs_ex__',\n",
       " '__getstate__',\n",
       " '__gt__',\n",
       " '__hash__',\n",
       " '__init__',\n",
       " '__init_subclass__',\n",
       " '__int__',\n",
       " '__invert__',\n",
       " '__le__',\n",
       " '__lshift__',\n",
       " '__lt__',\n",
       " '__mod__',\n",
       " '__module__',\n",
       " '__mul__',\n",
       " '__ne__',\n",
       " '__neg__',\n",
       " '__new__',\n",
       " '__new_stage2__',\n",
       " '__or__',\n",
       " '__pos__',\n",
       " '__pow__',\n",
       " '__radd__',\n",
       " '__rand__',\n",
       " '__rdivmod__',\n",
       " '__reduce__',\n",
       " '__reduce_ex__',\n",
       " '__repr__',\n",
       " '__rfloordiv__',\n",
       " '__rlshift__',\n",
       " '__rmod__',\n",
       " '__rmul__',\n",
       " '__ror__',\n",
       " '__round__',\n",
       " '__rpow__',\n",
       " '__rrshift__',\n",
       " '__rshift__',\n",
       " '__rsub__',\n",
       " '__rtruediv__',\n",
       " '__rxor__',\n",
       " '__setattr__',\n",
       " '__setstate__',\n",
       " '__sizeof__',\n",
       " '__slots__',\n",
       " '__str__',\n",
       " '__sub__',\n",
       " '__subclasshook__',\n",
       " '__sympy__',\n",
       " '__truediv__',\n",
       " '__trunc__',\n",
       " '__xnew__',\n",
       " '__xor__',\n",
       " '_add_handler',\n",
       " '_args',\n",
       " '_assumptions',\n",
       " '_compare_pretty',\n",
       " '_constructor_postprocessor_mapping',\n",
       " '_diff_wrt',\n",
       " '_do_eq_sympify',\n",
       " '_eval_adjoint',\n",
       " '_eval_as_leading_term',\n",
       " '_eval_conjugate',\n",
       " '_eval_derivative',\n",
       " '_eval_derivative_matrix_lines',\n",
       " '_eval_derivative_n_times',\n",
       " '_eval_evalf',\n",
       " '_eval_expand_complex',\n",
       " '_eval_interval',\n",
       " '_eval_is_algebraic_expr',\n",
       " '_eval_is_extended_negative',\n",
       " '_eval_is_extended_positive',\n",
       " '_eval_is_extended_positive_negative',\n",
       " '_eval_is_meromorphic',\n",
       " '_eval_is_negative',\n",
       " '_eval_is_polynomial',\n",
       " '_eval_is_positive',\n",
       " '_eval_is_rational_function',\n",
       " '_eval_lseries',\n",
       " '_eval_nseries',\n",
       " '_eval_power',\n",
       " '_eval_refine',\n",
       " '_eval_rewrite',\n",
       " '_eval_simplify',\n",
       " '_eval_subs',\n",
       " '_eval_transpose',\n",
       " '_evalf',\n",
       " '_exec_constructor_postprocessors',\n",
       " '_expand_hint',\n",
       " '_explicit_class_assumptions',\n",
       " '_from_mpmath',\n",
       " '_has',\n",
       " '_hashable_content',\n",
       " '_merge',\n",
       " '_mhash',\n",
       " '_mul_handler',\n",
       " '_op_priority',\n",
       " '_parse_order',\n",
       " '_pow',\n",
       " '_prop_handler',\n",
       " '_random',\n",
       " '_recursive_call',\n",
       " '_repr_disabled',\n",
       " '_repr_latex_',\n",
       " '_repr_png_',\n",
       " '_repr_svg_',\n",
       " '_rewrite',\n",
       " '_sage_',\n",
       " '_sanitize',\n",
       " '_sorted_args',\n",
       " '_subs',\n",
       " '_to_mpmath',\n",
       " '_xreplace',\n",
       " 'adjoint',\n",
       " 'apart',\n",
       " 'args',\n",
       " 'args_cnc',\n",
       " 'as_base_exp',\n",
       " 'as_coeff_Add',\n",
       " 'as_coeff_Mul',\n",
       " 'as_coeff_add',\n",
       " 'as_coeff_exponent',\n",
       " 'as_coeff_mul',\n",
       " 'as_coefficient',\n",
       " 'as_coefficients_dict',\n",
       " 'as_content_primitive',\n",
       " 'as_dummy',\n",
       " 'as_expr',\n",
       " 'as_independent',\n",
       " 'as_leading_term',\n",
       " 'as_numer_denom',\n",
       " 'as_ordered_factors',\n",
       " 'as_ordered_terms',\n",
       " 'as_poly',\n",
       " 'as_powers_dict',\n",
       " 'as_real_imag',\n",
       " 'as_set',\n",
       " 'as_terms',\n",
       " 'aseries',\n",
       " 'assumptions0',\n",
       " 'atoms',\n",
       " 'binary_symbols',\n",
       " 'cancel',\n",
       " 'canonical_variables',\n",
       " 'class_key',\n",
       " 'coeff',\n",
       " 'collect',\n",
       " 'combsimp',\n",
       " 'compare',\n",
       " 'compute_leading_term',\n",
       " 'conjugate',\n",
       " 'copy',\n",
       " 'could_extract_minus_sign',\n",
       " 'count',\n",
       " 'count_ops',\n",
       " 'default_assumptions',\n",
       " 'diff',\n",
       " 'dir',\n",
       " 'doit',\n",
       " 'dummy_eq',\n",
       " 'equals',\n",
       " 'evalf',\n",
       " 'expand',\n",
       " 'expr_free_symbols',\n",
       " 'extract_additively',\n",
       " 'extract_branch_factor',\n",
       " 'extract_multiplicatively',\n",
       " 'factor',\n",
       " 'find',\n",
       " 'fourier_series',\n",
       " 'fps',\n",
       " 'free_symbols',\n",
       " 'fromiter',\n",
       " 'func',\n",
       " 'gammasimp',\n",
       " 'getO',\n",
       " 'getn',\n",
       " 'has',\n",
       " 'has_free',\n",
       " 'integrate',\n",
       " 'invert',\n",
       " 'is_Add',\n",
       " 'is_AlgebraicNumber',\n",
       " 'is_Atom',\n",
       " 'is_Boolean',\n",
       " 'is_Derivative',\n",
       " 'is_Dummy',\n",
       " 'is_Equality',\n",
       " 'is_Float',\n",
       " 'is_Function',\n",
       " 'is_Indexed',\n",
       " 'is_Integer',\n",
       " 'is_MatAdd',\n",
       " 'is_MatMul',\n",
       " 'is_Matrix',\n",
       " 'is_Mul',\n",
       " 'is_Not',\n",
       " 'is_Number',\n",
       " 'is_NumberSymbol',\n",
       " 'is_Order',\n",
       " 'is_Piecewise',\n",
       " 'is_Point',\n",
       " 'is_Poly',\n",
       " 'is_Pow',\n",
       " 'is_Rational',\n",
       " 'is_Relational',\n",
       " 'is_Symbol',\n",
       " 'is_Vector',\n",
       " 'is_Wild',\n",
       " 'is_algebraic',\n",
       " 'is_algebraic_expr',\n",
       " 'is_antihermitian',\n",
       " 'is_commutative',\n",
       " 'is_comparable',\n",
       " 'is_complex',\n",
       " 'is_composite',\n",
       " 'is_constant',\n",
       " 'is_even',\n",
       " 'is_extended_negative',\n",
       " 'is_extended_nonnegative',\n",
       " 'is_extended_nonpositive',\n",
       " 'is_extended_nonzero',\n",
       " 'is_extended_positive',\n",
       " 'is_extended_real',\n",
       " 'is_finite',\n",
       " 'is_hermitian',\n",
       " 'is_hypergeometric',\n",
       " 'is_imaginary',\n",
       " 'is_infinite',\n",
       " 'is_integer',\n",
       " 'is_irrational',\n",
       " 'is_meromorphic',\n",
       " 'is_negative',\n",
       " 'is_noninteger',\n",
       " 'is_nonnegative',\n",
       " 'is_nonpositive',\n",
       " 'is_nonzero',\n",
       " 'is_number',\n",
       " 'is_odd',\n",
       " 'is_polar',\n",
       " 'is_polynomial',\n",
       " 'is_positive',\n",
       " 'is_prime',\n",
       " 'is_rational',\n",
       " 'is_rational_function',\n",
       " 'is_real',\n",
       " 'is_scalar',\n",
       " 'is_symbol',\n",
       " 'is_transcendental',\n",
       " 'is_zero',\n",
       " 'kind',\n",
       " 'leadterm',\n",
       " 'limit',\n",
       " 'lseries',\n",
       " 'match',\n",
       " 'matches',\n",
       " 'n',\n",
       " 'name',\n",
       " 'normal',\n",
       " 'nseries',\n",
       " 'nsimplify',\n",
       " 'powsimp',\n",
       " 'primitive',\n",
       " 'radsimp',\n",
       " 'ratsimp',\n",
       " 'rcall',\n",
       " 'refine',\n",
       " 'removeO',\n",
       " 'replace',\n",
       " 'rewrite',\n",
       " 'round',\n",
       " 'separate',\n",
       " 'series',\n",
       " 'simplify',\n",
       " 'sort_key',\n",
       " 'subs',\n",
       " 'taylor_term',\n",
       " 'to_nnf',\n",
       " 'together',\n",
       " 'transpose',\n",
       " 'trigsimp',\n",
       " 'xreplace']"
      ]
     },
     "execution_count": 4,
     "metadata": {},
     "output_type": "execute_result"
    }
   ],
   "source": [
    "print(type(x))\n",
    "dir(x)"
   ]
  },
  {
   "cell_type": "markdown",
   "metadata": {},
   "source": [
    "Aclarado lo anterior, destaquemos que con **SymPy** se pueden definir, de manera sencilla, constantes enteras o números racionales de forma simbólica, usando el comando `sp.Integer` o `sp.Rational`. Por ejemplo, podemos definir la constante simbólica $1/3$. Si hiciéramos lo mismo con números representados por defecto en Python, obtendríamos resultados muy diferentes. Observa también la diferencia que existe entre el tipo de dato asignado en el espacio de trabajo."
   ]
  },
  {
   "cell_type": "code",
   "execution_count": 6,
   "metadata": {},
   "outputs": [
    {
     "name": "stdout",
     "output_type": "stream",
     "text": [
      "a:  1/3\n",
      "b:  1/3\n",
      "c:  0.3333333333333333\n",
      "d:  0.3333333333333333\n",
      "<class 'sympy.core.numbers.Rational'>\n",
      "<class 'sympy.core.numbers.Rational'>\n",
      "<class 'float'>\n",
      "<class 'float'>\n"
     ]
    }
   ],
   "source": [
    "a = sp.Rational('1/3')\n",
    "b = sp.Integer('1')/sp.Integer('3')\n",
    "c = 1/3\n",
    "d = 1.0/3.0\n",
    "print('a: ',a)\n",
    "print('b: ',b)\n",
    "print('c: ',c)\n",
    "print('d: ',d)\n",
    "print(type(a))\n",
    "print(type(b))\n",
    "print(type(c))\n",
    "print(type(d))"
   ]
  },
  {
   "cell_type": "markdown",
   "metadata": {},
   "source": [
    "Otra forma sencilla de manejar valores constantes mediante objetos del módulo **SymPy** es usar la función `sp.S`. Una vez hechos todos los cálculos simbólicos, si necesitamos obtener el valor numérico, utilizaremos la función `sp.N` o bien, directamente, `float`:"
   ]
  },
  {
   "cell_type": "code",
   "execution_count": 7,
   "metadata": {},
   "outputs": [
    {
     "name": "stdout",
     "output_type": "stream",
     "text": [
      "<class 'sympy.core.numbers.Integer'>\n",
      "<class 'sympy.core.numbers.Integer'>\n",
      "<class 'sympy.core.numbers.Rational'>\n",
      "<class 'sympy.core.numbers.Float'>\n",
      "<class 'float'>\n",
      "1/3\n",
      "0.333333333333333\n",
      "0.333333333333333\n"
     ]
    }
   ],
   "source": [
    "a = sp.S(2)\n",
    "b = sp.S(6)\n",
    "c = a/b\n",
    "d = sp.N(c)\n",
    "e = float(c)\n",
    "print(type(a))\n",
    "print(type(b))\n",
    "print(type(c))\n",
    "print(type(d))\n",
    "print(type(e))\n",
    "print(c)\n",
    "print(d)\n",
    "print('{0:.15f}'.format(e))"
   ]
  },
  {
   "cell_type": "markdown",
   "metadata": {},
   "source": [
    "A lo largo del curso utilizaremos frecuentemente dos números reales que puedes definir como constantes simbólicas: $\\pi$ y el numéro $e$. De la misma manera, para operar con variables o constantes simbólicas, debemos utilizar funciones que sean capaces de manipular este tipo de objetos, todas ellas implementadas en el módulo **SymPy** (por exemplo, `sp.sin`, `sp.cos`, `sp.log`, etc)."
   ]
  },
  {
   "cell_type": "code",
   "execution_count": 8,
   "metadata": {},
   "outputs": [
    {
     "name": "stdout",
     "output_type": "stream",
     "text": [
      "-1\n",
      "1\n"
     ]
    }
   ],
   "source": [
    "p=sp.pi # definición de la constante pi\n",
    "print(sp.cos(p))\n",
    "\n",
    "e = sp.E # definición del número e\n",
    "print(sp.log(e))"
   ]
  },
  {
   "cell_type": "markdown",
   "metadata": {},
   "source": [
    "### Hipótesis sobre las variables\n",
    "\n",
    "Cuando se define una variable simbólica, se le puede asignar cierta información adicional sobre el tipo de valores que puede alcanzar, o las hipótesis que se le van a aplicar. Por ejemplo, podemos decidir antes de hacer calquier cálculo si la variable toma valores enteros o reales, si es positiva o negativa, mayor que un cierto número, *etc.*. Este tipo de información se añade en el momento de la definición de la variable simbólica como un argumento opcional."
   ]
  },
  {
   "cell_type": "code",
   "execution_count": 9,
   "metadata": {},
   "outputs": [
    {
     "name": "stdout",
     "output_type": "stream",
     "text": [
      "True\n",
      "True\n",
      "None\n",
      "None\n"
     ]
    }
   ],
   "source": [
    "x = sp.Symbol('x', nonnegative = True) # La raíz cuadrada de un número no negativo es real\n",
    "y = sp.sqrt(x)\n",
    "print(y.is_real)\n",
    "\n",
    "x = sp.Symbol('x', integer = True) # La potencia de un número entero es entera\n",
    "y = x**sp.S(2)\n",
    "print(y.is_integer)\n",
    "\n",
    "a = sp.Symbol('a')\n",
    "b = sp.sqrt(a)\n",
    "print(b.is_real)\n",
    "\n",
    "a = sp.Symbol('a')\n",
    "b = a**sp.S(2)\n",
    "print(b.is_integer)"
   ]
  },
  {
   "cell_type": "markdown",
   "metadata": {},
   "source": [
    "Ya que los cálculos simbólicos son consistentes en **SymPy**, se pueden también hacer comprobaciones sobre si algunas desigualdades son ciertas o no, siempre y cuando se tenga cuidado en las hipótesis que se hagan al definir las variables simbólicas."
   ]
  },
  {
   "cell_type": "code",
   "execution_count": 10,
   "metadata": {},
   "outputs": [
    {
     "name": "stdout",
     "output_type": "stream",
     "text": [
      "True\n",
      "q + Abs(x) > 0\n"
     ]
    }
   ],
   "source": [
    "x = sp.Symbol('x', real = True)\n",
    "p = sp.Symbol('p', positive = True)\n",
    "q = sp.Symbol('q', real = True)\n",
    "y = sp.Abs(x) + p # El valor absoluto\n",
    "z = sp.Abs(x) + q\n",
    "print(y > 0)\n",
    "print(z > 0)"
   ]
  },
  {
   "cell_type": "markdown",
   "metadata": {},
   "source": [
    "### Expresiones simbólicas\n",
    "\n",
    "De la misma manera que el módulo **SymPy** nos permite definir variables simbólicas, también podemos definir expresiones matemáticas a partir de estas y manipularlas, factorizarlas, expandirlas, simplificarlas, o, incluso, imprimirlas de manera similar a como lo haríamos con lápiz y papel."
   ]
  },
  {
   "cell_type": "code",
   "execution_count": 11,
   "metadata": {},
   "outputs": [
    {
     "name": "stdout",
     "output_type": "stream",
     "text": [
      "x**3*y - 2*x**3 - 9*x**2*y + 18*x**2 + 27*x*y - 54*x - 27*y + 54\n",
      " 3        3      2         2                            \n",
      "x ⋅y - 2⋅x  - 9⋅x ⋅y + 18⋅x  + 27⋅x⋅y - 54⋅x - 27⋅y + 54\n",
      "(x - 3)**3*(y - 2)\n",
      "      2          \n",
      "     x  - 6⋅x + 9\n",
      "-3 + ────────────\n",
      "        x - 3    \n",
      "x - 6\n"
     ]
    }
   ],
   "source": [
    "x,y = sp.symbols('x,y', real=True)\n",
    "expr = (x-3)*(x-3)**2*(y-2)\n",
    "expr_long = sp.expand(expr) # Expandir expresión\n",
    "\n",
    "print(expr_long) # Imprimir de forma estándar\n",
    "sp.pprint(expr_long) # Imprimir de forma semejante a con lápiz e papel\n",
    "\n",
    "expr_short = sp.factor(expr)\n",
    "print(expr_short) # Factorizar expresión\n",
    "\n",
    "expr = -3+(x**2-6*x+9)/(x-3)\n",
    "expr_simple = sp.simplify(expr) # Simplificar expresión\n",
    "sp.pprint(expr)\n",
    "print(expr_simple)"
   ]
  },
  {
   "cell_type": "markdown",
   "metadata": {},
   "source": [
    "Dada una expresión en **Sympy**, podemos plantear y resolver una ecuación con la misma utilizando la función `solve`, que entiende que la expresión se iguala a 0 (es decir, debemos pasar todo al primer miembro). Por ejemplo, si queremos resolver $e^{x+1}=5$ debemos pensar en $e^{x+1}-5=0$ y, entonces,"
   ]
  },
  {
   "cell_type": "code",
   "execution_count": 16,
   "metadata": {
    "scrolled": true
   },
   "outputs": [
    {
     "name": "stdout",
     "output_type": "stream",
     "text": [
      "Queremos resolver la ecuación exp(x+1)=5\n",
      "Solución:  [-1 + log(5)]\n"
     ]
    }
   ],
   "source": [
    "x = sp.Symbol('x', real = True)\n",
    "expr = sp.exp(x+1)-5\n",
    "solucion = sp.solve(expr,x)\n",
    "print(\"Queremos resolver la ecuación exp(x+1)=5\")\n",
    "print(\"Solución: \", solucion)\n",
    "# Nota: en casos sencillos, como este, podríamos escribir directamente\n",
    "# solucion = sp.solve(sp.exp(x+1)-5,x)"
   ]
  },
  {
   "cell_type": "markdown",
   "metadata": {},
   "source": []
  },
  {
   "cell_type": "markdown",
   "metadata": {},
   "source": [
    "Dada una expresión en **SymPy**, también se puede manipularla, sustituyendo unas variables simbólicas por otras o, incluso, reemplazando las variables simbólicas por constantes. Para hacer este tipo de sustituciones se utiliza la función `subs` y los valores a utilizar en la sustitución vienen definidos por un diccionario de Python:"
   ]
  },
  {
   "cell_type": "code",
   "execution_count": 5,
   "metadata": {},
   "outputs": [
    {
     "name": "stdout",
     "output_type": "stream",
     "text": [
      "9\n",
      "/*\n",
      "//////////////////////////////////\n",
      "*/\n",
      " 2                        2\n",
      "y  + 2⋅y⋅(1 - y) + (1 - y) \n",
      "/*\n",
      "//////////////////////////////////\n",
      "*/\n",
      "1\n"
     ]
    }
   ],
   "source": [
    "x,y = sp.symbols('x,y', real=True)\n",
    "expr = x*x + x*y + y*x + y*y\n",
    "res = expr.subs({x:1, y:2}) # Sustitutición de las variables simbólicas por constantes\n",
    "print(res)\n",
    "print('/*\\n//////////////////////////////////\\n*/')\n",
    "expr_sub = expr.subs({x:1-y}) # Susitución de variable simbólica por una expresión\n",
    "sp.pprint(expr_sub)\n",
    "print('/*\\n//////////////////////////////////\\n*/')\n",
    "print(sp.simplify(expr_sub))"
   ]
  },
  {
   "cell_type": "markdown",
   "metadata": {},
   "source": [
    "### **Ejercicios** \n",
    "\n",
    "1. Define la expresión dada por la suma de $\\displaystyle a+a^2+a^3+\\ldots+a^N$, donde $a$ es una variable real arbitraria y $N$ un valor entero positivo.\n",
    "\n",
    "2. ¿Cuál es el valor exacto de la expresión anterior cuando $N=15$ y $a=5/6$? ¿Cuál es el valor numérico en coma flotante?"
   ]
  },
  {
   "cell_type": "code",
   "execution_count": 7,
   "metadata": {
    "scrolled": true
   },
   "outputs": [
    {
     "name": "stdout",
     "output_type": "stream",
     "text": [
      "0.9735820727831175\n"
     ]
    }
   ],
   "source": [
    "# ESCRIBE AQUÍ TU CÓDIGO\n",
    "\n",
    "a = 5/6\n",
    "N = 15\n",
    "\n",
    "expr = 0\n",
    "for i in range(N):\n",
    "    expr += a**N\n",
    "\n",
    "print(expr)\n",
    "\n",
    "\n",
    "    "
   ]
  },
  {
   "cell_type": "markdown",
   "metadata": {},
   "source": [
    "## Representación gráfica\n",
    "\n",
    "Antes de empezar, para cualquier duda, podéis consultar, en el siguiente link, la documentación oficial de **SymPy** sobre representación gráfica: \n",
    "https://docs.sympy.org/latest/modules/plotting.html\n",
    "\n",
    "### Regiones en el plano\n",
    "\n",
    "Podemos representar regiones con la instrucción `plot_implicit`, para la cual podremos utilizar como argumento una igualdad o una desigualdad:"
   ]
  },
  {
   "cell_type": "code",
   "execution_count": 14,
   "metadata": {},
   "outputs": [
    {
     "data": {
      "image/png": "[encoded data removed]",
      "text/plain": [
       "<Figure size 432x288 with 1 Axes>"
      ]
     },
     "metadata": {
      "needs_background": "light"
     },
     "output_type": "display_data"
    },
    {
     "data": {
      "image/png": "[encoded data removed]",
      "text/plain": [
       "<Figure size 432x288 with 1 Axes>"
      ]
     },
     "metadata": {
      "needs_background": "light"
     },
     "output_type": "display_data"
    },
    {
     "data": {
      "image/png": "[encoded data removed]",
      "text/plain": [
       "<Figure size 432x288 with 1 Axes>"
      ]
     },
     "metadata": {
      "needs_background": "light"
     },
     "output_type": "display_data"
    }
   ],
   "source": [
    "x, y = sp.symbols('x:y', real=True)\n",
    "\n",
    "p1 = sp.plot_implicit(sp.Eq(x**2 + y**2, 3**2))  # Con una igualdad: Representamos gráficamente la circunferencia de centro (0,0) y radio 3\n",
    "p2 = sp.plot_implicit(y > x**2)  # Utilizamos ahora una desigualdad\n",
    "p3 = sp.plot_implicit(sp.And(sp.And(y > x, y > -x), y < x + 4))  # Dos desigualdades, ligadas, en este caso, con el operador lógico `sp.And` (en otros casos, usaremos `sp.Or`)\n"
   ]
  },
  {
   "cell_type": "markdown",
   "metadata": {},
   "source": [
    "**Ejercicio:**\n",
    " \n",
    "Representa gráficamente las siguientes regiones o conjuntos en el plano:\n",
    "- El conjunto de puntos que satisfacen $y=2x^2-3$.\n",
    "- La región, en el plano, de los puntos que cumplen $y<x^2$ e $|y|<2$. \n",
    "- La región, en el plano, de los puntos que cumplen $y>x$ ou $y<-2x$.\n",
    "- La región, en el plano, de los puntos que están en el interior de un paralelogramo de vértices $(0,0)$, $(0,1)$, $(1,1)$ y $(1,2)$."
   ]
  },
  {
   "cell_type": "code",
   "execution_count": 14,
   "metadata": {},
   "outputs": [
    {
     "data": {
      "image/png": "[encoded data removed]",
      "text/plain": [
       "<Figure size 432x288 with 1 Axes>"
      ]
     },
     "metadata": {
      "needs_background": "light"
     },
     "output_type": "display_data"
    },
    {
     "name": "stdout",
     "output_type": "stream",
     "text": [
      "/*\n",
      "\n",
      "\n",
      "*/\n"
     ]
    },
    {
     "data": {
      "image/png": "[encoded data removed]",
      "text/plain": [
       "<Figure size 432x288 with 1 Axes>"
      ]
     },
     "metadata": {
      "needs_background": "light"
     },
     "output_type": "display_data"
    },
    {
     "name": "stdout",
     "output_type": "stream",
     "text": [
      "/*\n",
      "\n",
      "\n",
      "*/\n"
     ]
    },
    {
     "data": {
      "image/png": "[encoded data removed]",
      "text/plain": [
       "<Figure size 432x288 with 1 Axes>"
      ]
     },
     "metadata": {
      "needs_background": "light"
     },
     "output_type": "display_data"
    },
    {
     "name": "stdout",
     "output_type": "stream",
     "text": [
      "/*\n",
      "\n",
      "\n",
      "*/\n"
     ]
    },
    {
     "data": {
      "image/png": "[encoded data removed]",
      "text/plain": [
       "<Figure size 432x288 with 1 Axes>"
      ]
     },
     "metadata": {
      "needs_background": "light"
     },
     "output_type": "display_data"
    }
   ],
   "source": [
    "# Escribe aquí tu código\n",
    "\n",
    "x, y = sp.symbols('x:y', real=True)\n",
    "\n",
    "p1 = sp.plot_implicit(sp.Eq((2*x**2)-3, y))\n",
    "print('/*\\n\\n\\n*/')\n",
    "\n",
    "p2 = sp.plot_implicit(sp.And(sp.And(y < x**2), sp.Abs(y) < 2))\n",
    "print('/*\\n\\n\\n*/')\n",
    "\n",
    "p3 = sp.plot_implicit(sp.And(sp.And(y > x), y < -2*x))\n",
    "print('/*\\n\\n\\n*/')\n",
    "\n",
    "p4 = sp.plot_implicit(sp.And(sp.And(x > 0), y < 1, x <= 2, y >= 0))"
   ]
  },
  {
   "cell_type": "markdown",
   "metadata": {},
   "source": [
    "### Gráficas de funciones\n",
    "\n",
    "Para graficar funciones con **SymPy** utilizaremos, dentro de este paquete, la orden `plot` y a continuación la expresión de la función que queramos graficar. \n",
    "En el ejemplo a continuación mostramos algunas de las opciones en la representación:"
   ]
  },
  {
   "cell_type": "code",
   "execution_count": 15,
   "metadata": {},
   "outputs": [
    {
     "data": {
      "image/png": "[encoded data removed]",
      "text/plain": [
       "<Figure size 432x288 with 1 Axes>"
      ]
     },
     "metadata": {
      "needs_background": "light"
     },
     "output_type": "display_data"
    }
   ],
   "source": [
    "x = sp.symbols('x', real=True)\n",
    "p = sp.plot(sp.sin(x), sp.cos(x), (x, 0, 4*sp.pi), show=False)\n",
    "p[0].line_color='r'\n",
    "p[1].line_color='y'\n",
    "p.xlabel='x'\n",
    "p.ylabel='y'\n",
    "p.legend=True\n",
    "p.show()"
   ]
  },
  {
   "cell_type": "code",
   "execution_count": null,
   "metadata": {},
   "outputs": [],
   "source": []
  }
 ],
 "metadata": {
  "kernelspec": {
   "display_name": "Python 3 (ipykernel)",
   "language": "python",
   "name": "python3"
  },
  "language_info": {
   "codemirror_mode": {
    "name": "ipython",
    "version": 3
   },
   "file_extension": ".py",
   "mimetype": "text/x-python",
   "name": "python",
   "nbconvert_exporter": "python",
   "pygments_lexer": "ipython3",
   "version": "3.9.12"
  },
  "vscode": {
   "interpreter": {
    "hash": "4253bf17849ddc6b6e8c6b6b1c64951bcfcb143729dea15b0d22aeda669b2aa2"
   }
  }
 },
 "nbformat": 4,
 "nbformat_minor": 2
}
